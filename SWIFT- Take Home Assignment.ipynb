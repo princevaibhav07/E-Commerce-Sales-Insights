{
 "cells": [
  {
   "cell_type": "code",
   "execution_count": 1,
   "id": "50f5d7c5",
   "metadata": {},
   "outputs": [],
   "source": [
    "import sqlite3\n",
    "import pandas as pd"
   ]
  },
  {
   "cell_type": "code",
   "execution_count": 2,
   "id": "46d2a613",
   "metadata": {},
   "outputs": [
    {
     "data": {
      "text/plain": [
       "40745"
      ]
     },
     "execution_count": 2,
     "metadata": {},
     "output_type": "execute_result"
    }
   ],
   "source": [
    "# Connect to SQLite (create a database in memory)\n",
    "conn = sqlite3.connect(':memory:') \n",
    "\n",
    "# Load CSV files into pandas DataFrames\n",
    "sales_data = pd.read_csv('Sales_Data.csv')\n",
    "glance_views = pd.read_csv('Glance_Views.csv')\n",
    "\n",
    "# Load DataFrames into SQLite tables\n",
    "sales_data.to_sql('Sales_Data', conn, index=False, if_exists='replace')\n",
    "glance_views.to_sql('Glance_Views', conn, index=False, if_exists='replace')"
   ]
  },
  {
   "cell_type": "code",
   "execution_count": 3,
   "id": "95d93888",
   "metadata": {},
   "outputs": [
    {
     "data": {
      "text/html": [
       "<div>\n",
       "<style scoped>\n",
       "    .dataframe tbody tr th:only-of-type {\n",
       "        vertical-align: middle;\n",
       "    }\n",
       "\n",
       "    .dataframe tbody tr th {\n",
       "        vertical-align: top;\n",
       "    }\n",
       "\n",
       "    .dataframe thead th {\n",
       "        text-align: right;\n",
       "    }\n",
       "</style>\n",
       "<table border=\"1\" class=\"dataframe\">\n",
       "  <thead>\n",
       "    <tr style=\"text-align: right;\">\n",
       "      <th></th>\n",
       "      <th>Unnamed: 0</th>\n",
       "      <th>SKU_NAME</th>\n",
       "      <th>FEED_DATE</th>\n",
       "      <th>VIEWS</th>\n",
       "      <th>UNITS</th>\n",
       "    </tr>\n",
       "  </thead>\n",
       "  <tbody>\n",
       "    <tr>\n",
       "      <th>0</th>\n",
       "      <td>0</td>\n",
       "      <td>B1212:PZ:V</td>\n",
       "      <td>2019-05-01</td>\n",
       "      <td>455.0</td>\n",
       "      <td>16.0</td>\n",
       "    </tr>\n",
       "    <tr>\n",
       "      <th>1</th>\n",
       "      <td>1</td>\n",
       "      <td>B1212:PZ:V</td>\n",
       "      <td>2019-05-02</td>\n",
       "      <td>478.0</td>\n",
       "      <td>12.0</td>\n",
       "    </tr>\n",
       "    <tr>\n",
       "      <th>2</th>\n",
       "      <td>2</td>\n",
       "      <td>B1212:PZ:V</td>\n",
       "      <td>2019-05-03</td>\n",
       "      <td>681.0</td>\n",
       "      <td>42.0</td>\n",
       "    </tr>\n",
       "    <tr>\n",
       "      <th>3</th>\n",
       "      <td>3</td>\n",
       "      <td>B1212:PZ:V</td>\n",
       "      <td>2019-05-04</td>\n",
       "      <td>662.0</td>\n",
       "      <td>70.0</td>\n",
       "    </tr>\n",
       "    <tr>\n",
       "      <th>4</th>\n",
       "      <td>4</td>\n",
       "      <td>B1212:PZ:V</td>\n",
       "      <td>2019-05-05</td>\n",
       "      <td>568.0</td>\n",
       "      <td>33.0</td>\n",
       "    </tr>\n",
       "  </tbody>\n",
       "</table>\n",
       "</div>"
      ],
      "text/plain": [
       "   Unnamed: 0    SKU_NAME   FEED_DATE  VIEWS  UNITS\n",
       "0           0  B1212:PZ:V  2019-05-01  455.0   16.0\n",
       "1           1  B1212:PZ:V  2019-05-02  478.0   12.0\n",
       "2           2  B1212:PZ:V  2019-05-03  681.0   42.0\n",
       "3           3  B1212:PZ:V  2019-05-04  662.0   70.0\n",
       "4           4  B1212:PZ:V  2019-05-05  568.0   33.0"
      ]
     },
     "execution_count": 3,
     "metadata": {},
     "output_type": "execute_result"
    }
   ],
   "source": [
    "sales_data.head() \n",
    "glance_views.head()  "
   ]
  },
  {
   "cell_type": "code",
   "execution_count": 4,
   "id": "d0bd5578",
   "metadata": {},
   "outputs": [
    {
     "data": {
      "text/plain": [
       "Unnamed: 0           0\n",
       "SKU_NAME             0\n",
       "FEED_DATE            0\n",
       "CATEGORY             0\n",
       "SUB_CATEGORY         0\n",
       "ORDERED_REVENUE      0\n",
       "ORDERED_UNITS        0\n",
       "REP_OOS            689\n",
       "dtype: int64"
      ]
     },
     "execution_count": 4,
     "metadata": {},
     "output_type": "execute_result"
    }
   ],
   "source": [
    "sales_data.isnull().sum()  # Check for missing values"
   ]
  },
  {
   "cell_type": "code",
   "execution_count": 5,
   "id": "d6c79464",
   "metadata": {},
   "outputs": [],
   "source": [
    "sales_data['REP_OOS'].fillna(0, inplace=True)  # Replace with zero"
   ]
  },
  {
   "cell_type": "code",
   "execution_count": 6,
   "id": "c4a859a2",
   "metadata": {},
   "outputs": [
    {
     "data": {
      "text/plain": [
       "Unnamed: 0         0\n",
       "SKU_NAME           0\n",
       "FEED_DATE          0\n",
       "CATEGORY           0\n",
       "SUB_CATEGORY       0\n",
       "ORDERED_REVENUE    0\n",
       "ORDERED_UNITS      0\n",
       "REP_OOS            0\n",
       "dtype: int64"
      ]
     },
     "execution_count": 6,
     "metadata": {},
     "output_type": "execute_result"
    }
   ],
   "source": [
    "sales_data.isnull().sum()"
   ]
  },
  {
   "cell_type": "markdown",
   "id": "4bf312c7",
   "metadata": {},
   "source": [
    "## Question 1: Identify the most expensive SKU, on average, over the entire time period"
   ]
  },
  {
   "cell_type": "code",
   "execution_count": 7,
   "id": "f212e4fd",
   "metadata": {},
   "outputs": [
    {
     "name": "stdout",
     "output_type": "stream",
     "text": [
      "     SKU_NAME    Avg_Price\n",
      "0  C03CBL[721  1151.858727\n"
     ]
    }
   ],
   "source": [
    "query = '''\n",
    "    SELECT SKU_Name, AVG(Ordered_Revenue / Ordered_Units) AS Avg_Price\n",
    "    FROM Sales_Data\n",
    "    GROUP BY SKU_Name\n",
    "    ORDER BY Avg_Price DESC\n",
    "    LIMIT 1;\n",
    "'''\n",
    "\n",
    "result = pd.read_sql(query, conn)\n",
    "print(result)"
   ]
  },
  {
   "cell_type": "markdown",
   "id": "50efeb77",
   "metadata": {},
   "source": [
    "## Question 2: What % of SKUs have generated some revenue in this time period?"
   ]
  },
  {
   "cell_type": "code",
   "execution_count": 8,
   "id": "1434fce4",
   "metadata": {},
   "outputs": [
    {
     "name": "stdout",
     "output_type": "stream",
     "text": [
      "   Revenue_Generating_SKU_Percentage\n",
      "0                          78.709677\n"
     ]
    }
   ],
   "source": [
    "query = '''\n",
    "    SELECT (COUNT(DISTINCT SKU_Name) * 100.0) / \n",
    "       (SELECT COUNT(DISTINCT SKU_Name) FROM Sales_Data) AS Revenue_Generating_SKU_Percentage\n",
    "FROM Sales_Data\n",
    "WHERE Ordered_Revenue > 0;\n",
    "'''\n",
    "\n",
    "result = pd.read_sql(query, conn)\n",
    "print(result)"
   ]
  },
  {
   "cell_type": "markdown",
   "id": "e377a442",
   "metadata": {},
   "source": [
    "### SKUs That Stopped Selling After July:"
   ]
  },
  {
   "cell_type": "code",
   "execution_count": 9,
   "id": "5dc65eb7",
   "metadata": {},
   "outputs": [
    {
     "name": "stdout",
     "output_type": "stream",
     "text": [
      "       SKU_NAME\n",
      "0    B12020KBUI\n",
      "1    C02228YPPT\n",
      "2    D1000D20S:\n",
      "3    C1027E31J0\n",
      "4    D211PEL2IE\n",
      "..          ...\n",
      "134  C29LCOGDHZ\n",
      "135  C17NEDU7P[\n",
      "136  C28S6S9HS[\n",
      "137  C07S8PDLZX\n",
      "138  C19T:CGV3L\n",
      "\n",
      "[139 rows x 1 columns]\n"
     ]
    }
   ],
   "source": [
    "query = '''\n",
    "    SELECT DISTINCT SKU_Name\n",
    "FROM Sales_Data\n",
    "WHERE strftime('%m', Feed_date) <= '07'\n",
    "AND SKU_Name NOT IN (\n",
    "    SELECT DISTINCT SKU_Name\n",
    "    FROM Sales_Data\n",
    "    WHERE strftime('%m', Feed_date) > '07'\n",
    "      AND Ordered_Revenue > 0\n",
    ");\n",
    "'''\n",
    "\n",
    "result = pd.read_sql(query, conn)\n",
    "print(result)"
   ]
  },
  {
   "cell_type": "markdown",
   "id": "8185b31a",
   "metadata": {},
   "source": [
    "## Question 3: Somewhere in this timeframe, there was a Sale Event. Identify the dates."
   ]
  },
  {
   "cell_type": "code",
   "execution_count": 10,
   "id": "58261d1f",
   "metadata": {},
   "outputs": [
    {
     "name": "stdout",
     "output_type": "stream",
     "text": [
      "    FEED_DATE  Total_Revenue\n",
      "0  2019-07-15     5158848.46\n",
      "1  2019-07-16     3105376.74\n",
      "2  2019-06-20     1586367.45\n",
      "3  2019-07-26     1266935.31\n",
      "4  2019-06-26      926478.82\n"
     ]
    }
   ],
   "source": [
    "query = '''\n",
    "    SELECT Feed_date, SUM(Ordered_Revenue) AS Total_Revenue\n",
    "FROM Sales_Data\n",
    "GROUP BY Feed_date\n",
    "ORDER BY Total_Revenue DESC\n",
    "LIMIT 5;\n",
    "'''\n",
    "\n",
    "result = pd.read_sql(query, conn)\n",
    "print(result)"
   ]
  },
  {
   "cell_type": "markdown",
   "id": "7d61591d",
   "metadata": {},
   "source": [
    "## Question 4:  Does having a sale event cannibalize sales in the immediate aftermath? Highlighting a few examples would suffice "
   ]
  },
  {
   "cell_type": "code",
   "execution_count": 11,
   "id": "0a3aaae7",
   "metadata": {},
   "outputs": [
    {
     "name": "stdout",
     "output_type": "stream",
     "text": [
      "      FEED_DATE    SKU_NAME  ORDERED_REVENUE  Post_Sale_Revenue\n",
      "0    2019-07-15  B1212:PZ:V          1789.80        2187.648591\n",
      "1    2019-07-15  B111S;CCLC          8187.55        2187.648591\n",
      "2    2019-07-15  D102VX\\R52         31657.76        2187.648591\n",
      "3    2019-07-15  C120[H:8NV          1674.40        2187.648591\n",
      "4    2019-07-15  B223F54NLG          3329.14        2187.648591\n",
      "..          ...         ...              ...                ...\n",
      "329  2019-07-15  D28NTVMU32          1349.91        2187.648591\n",
      "330  2019-07-15  D07QEFDK\\E          -519.96        2187.648591\n",
      "331  2019-07-15  D08RJOM3XB             0.00        2187.648591\n",
      "332  2019-07-15  C08QQJNQR4             0.00        2187.648591\n",
      "333  2019-07-15  D28QU2Q7[:           700.32        2187.648591\n",
      "\n",
      "[334 rows x 4 columns]\n"
     ]
    }
   ],
   "source": [
    "query = '''\n",
    "    WITH Date_Revenue AS (\n",
    "    SELECT Feed_date, SUM(Ordered_Revenue) AS Total_Revenue\n",
    "    FROM Sales_Data\n",
    "    GROUP BY Feed_date\n",
    "),\n",
    "Max_Revenue AS (\n",
    "    SELECT MAX(Total_Revenue) AS Max_Total_Revenue\n",
    "    FROM Date_Revenue\n",
    "),\n",
    "Sale_Dates AS (\n",
    "    SELECT Feed_date\n",
    "    FROM Date_Revenue\n",
    "    WHERE Total_Revenue = (SELECT Max_Total_Revenue FROM Max_Revenue)\n",
    ")\n",
    "SELECT sd.Feed_date, sd.SKU_Name, sd.Ordered_Revenue, \n",
    "       (SELECT AVG(sd2.Ordered_Revenue)\n",
    "        FROM Sales_Data sd2\n",
    "        WHERE sd2.Feed_date > sd.Feed_date\n",
    "        ORDER BY sd2.Feed_date\n",
    "        LIMIT 3) AS Post_Sale_Revenue\n",
    "FROM Sales_Data sd\n",
    "JOIN Sale_Dates s ON sd.Feed_date = s.Feed_date\n",
    "ORDER BY sd.Feed_date;\n",
    "\n",
    "\n",
    "'''\n",
    "\n",
    "result = pd.read_sql(query, conn)\n",
    "print(result)"
   ]
  },
  {
   "cell_type": "markdown",
   "id": "155bdeb3",
   "metadata": {},
   "source": [
    "## Question 5: In each category, find the subcategory that has grown slowest relative to the category it is present in. If you were handling the entire portfolio, which of these subcategories would you be most concerned with?"
   ]
  },
  {
   "cell_type": "code",
   "execution_count": 12,
   "id": "c3661a2e",
   "metadata": {},
   "outputs": [
    {
     "name": "stdout",
     "output_type": "stream",
     "text": [
      "      Category  Sub_Category\n",
      "0  1000 Inputs  1005 Webcams\n"
     ]
    }
   ],
   "source": [
    "query = '''\n",
    "    WITH Growth_Rate AS (\n",
    "    SELECT Category, Sub_Category, \n",
    "           (MAX(Ordered_Revenue) - MIN(Ordered_Revenue)) / MIN(Ordered_Revenue) AS Growth\n",
    "    FROM Sales_Data\n",
    "    GROUP BY Category, Sub_Category\n",
    ")\n",
    "SELECT Category, Sub_Category\n",
    "FROM Growth_Rate\n",
    "WHERE Growth = (SELECT MIN(Growth) FROM Growth_Rate);\n",
    "\n",
    "'''\n",
    "\n",
    "result = pd.read_sql(query, conn)\n",
    "print(result)"
   ]
  },
  {
   "cell_type": "markdown",
   "id": "4eb4dbfb",
   "metadata": {},
   "source": [
    "## Question 6: Highlight any anomalies/mismatches in the data that you see, if any. (In terms of data quality issues)"
   ]
  },
  {
   "cell_type": "code",
   "execution_count": 13,
   "id": "8be1c29c",
   "metadata": {},
   "outputs": [
    {
     "name": "stdout",
     "output_type": "stream",
     "text": [
      "    Unnamed: 0    SKU_NAME   FEED_DATE                     CATEGORY  \\\n",
      "0         2397  C124PR58CZ  2019-08-17                  1000 Inputs   \n",
      "1         4028  B215GHP7Z7  2019-08-28                  1000 Inputs   \n",
      "2         4788  D014[Y8YEZ  2019-06-23                  1000 Inputs   \n",
      "3         4878  C024ZE\\C:9  2019-05-21                  1000 Inputs   \n",
      "4         6222  B027LTJDHL  2019-08-31                  1000 Inputs   \n",
      "..         ...         ...         ...                          ...   \n",
      "89       38575  B08MD1RCIY  2019-06-22              5300 Headphones   \n",
      "90       38816  B17NJ;4CN7  2019-06-21                  1000 Inputs   \n",
      "91       39650  C09OGREK9L  2019-07-17  5000 Portable Media Players   \n",
      "92       39652  C09OGREK9L  2019-07-19  5000 Portable Media Players   \n",
      "93       40932  D28QU2Q7[:  2019-05-21                  1000 Inputs   \n",
      "\n",
      "                       SUB_CATEGORY  ORDERED_REVENUE  ORDERED_UNITS  REP_OOS  \n",
      "0                         1002 Mice             9.11            0.0     6.02  \n",
      "1                      1005 Webcams             6.03            0.0    89.30  \n",
      "2                      1005 Webcams             6.40            0.0    95.57  \n",
      "3   1004 Computer Headsets and Mics             1.99            0.0    95.45  \n",
      "4                         1002 Mice             1.05            0.0    95.09  \n",
      "..                              ...              ...            ...      ...  \n",
      "89                  5310 Headphones            30.00            0.0     0.00  \n",
      "90  1004 Computer Headsets and Mics            30.00            0.0     7.00  \n",
      "91        5010 Other Portable Audio            20.00            0.0     0.00  \n",
      "92        5010 Other Portable Audio            20.00            0.0     0.00  \n",
      "93           1003 Computer Speakers            24.00            0.0     0.00  \n",
      "\n",
      "[94 rows x 8 columns]\n",
      "       Unnamed: 0    SKU_NAME   FEED_DATE     CATEGORY  \\\n",
      "0              12  B1212:PZ:V  2019-05-01  1000 Inputs   \n",
      "1              13  B1212:PZ:V  2019-05-02  1000 Inputs   \n",
      "2              14  B1212:PZ:V  2019-05-03  1000 Inputs   \n",
      "3              15  B1212:PZ:V  2019-05-04  1000 Inputs   \n",
      "4              16  B1212:PZ:V  2019-05-05  1000 Inputs   \n",
      "...           ...         ...         ...          ...   \n",
      "20969       41028  D28QU2Q7[:  2019-08-26  1000 Inputs   \n",
      "20970       41029  D28QU2Q7[:  2019-08-27  1000 Inputs   \n",
      "20971       41030  D28QU2Q7[:  2019-08-28  1000 Inputs   \n",
      "20972       41031  D28QU2Q7[:  2019-08-29  1000 Inputs   \n",
      "20973       41032  D28QU2Q7[:  2019-08-30  1000 Inputs   \n",
      "\n",
      "                        SUB_CATEGORY  ORDERED_REVENUE  ORDERED_UNITS  REP_OOS  \n",
      "0      1006 Gamepads and Controllers           525.84           16.0     8.13  \n",
      "1      1006 Gamepads and Controllers           395.88           12.0     0.21  \n",
      "2      1006 Gamepads and Controllers          1385.58           42.0     8.22  \n",
      "3      1006 Gamepads and Controllers          2341.30           70.0    12.08  \n",
      "4      1006 Gamepads and Controllers          1104.07           33.0    14.08  \n",
      "...                              ...              ...            ...      ...  \n",
      "20969         1003 Computer Speakers           175.07            1.0    20.97  \n",
      "20970         1003 Computer Speakers           175.07            1.0     3.39  \n",
      "20971         1003 Computer Speakers           175.07            1.0    18.64  \n",
      "20972         1003 Computer Speakers           639.96            4.0     7.94  \n",
      "20973         1003 Computer Speakers           959.94            6.0    29.09  \n",
      "\n",
      "[20974 rows x 8 columns]\n"
     ]
    }
   ],
   "source": [
    "# Ordered_Units = 0 but Ordered_Revenue > 0\n",
    "\n",
    "query = '''\n",
    "    SELECT *\n",
    "FROM Sales_Data\n",
    "WHERE Ordered_Units = 0 AND Ordered_Revenue > 0;\n",
    "\n",
    "'''\n",
    "\n",
    "result = pd.read_sql(query, conn)\n",
    "print(result)\n",
    "\n",
    "# Out of Stock but Revenue Was Generated:\n",
    "\n",
    "query = '''\n",
    "    SELECT *\n",
    "FROM Sales_Data\n",
    "WHERE Rep_OOS > 0 AND Ordered_Revenue > 0;\n",
    "\n",
    "'''\n",
    "\n",
    "result = pd.read_sql(query, conn)\n",
    "print(result)"
   ]
  },
  {
   "cell_type": "markdown",
   "id": "eb5a72e0",
   "metadata": {},
   "source": [
    "## Question 7: For SKU Name C120[H:8NV, discuss whether Unit Conversion (Units/Views) is affected by Average Selling Price."
   ]
  },
  {
   "cell_type": "code",
   "execution_count": 14,
   "id": "d7c45042",
   "metadata": {},
   "outputs": [
    {
     "name": "stdout",
     "output_type": "stream",
     "text": [
      "Empty DataFrame\n",
      "Columns: [Unit_Conversion, Avg_Selling_Price]\n",
      "Index: []\n"
     ]
    }
   ],
   "source": [
    "query = '''\n",
    "    WITH Conversion AS (\n",
    "    SELECT gv.SKU_Name, gv.Feed_date, gv.Units, gv.Views, \n",
    "           sd.Ordered_Revenue, sd.Ordered_Units,\n",
    "           (gv.Units * 1.0) / gv.Views AS Unit_Conversion,\n",
    "           (sd.Ordered_Revenue * 1.0) / sd.Ordered_Units AS Avg_Selling_Price\n",
    "    FROM Glance_Views gv\n",
    "    JOIN Sales_Data sd ON gv.SKU_Name = sd.SKU_Name AND gv.Feed_date = sd.Feed_date\n",
    "    WHERE gv.SKU_Name = 'C120[H:8NV]'\n",
    ")\n",
    "SELECT Unit_Conversion, Avg_Selling_Price\n",
    "FROM Conversion;\n",
    "\n",
    "\n",
    "'''\n",
    "\n",
    "result = pd.read_sql(query, conn)\n",
    "print(result)"
   ]
  },
  {
   "cell_type": "code",
   "execution_count": 15,
   "id": "6fabc0b6",
   "metadata": {},
   "outputs": [
    {
     "name": "stdout",
     "output_type": "stream",
     "text": [
      "Empty DataFrame\n",
      "Columns: [Unnamed: 0, SKU_NAME, FEED_DATE, CATEGORY, SUB_CATEGORY, ORDERED_REVENUE, ORDERED_UNITS, REP_OOS]\n",
      "Index: []\n"
     ]
    }
   ],
   "source": [
    "query = '''\n",
    "SELECT * \n",
    "FROM Sales_Data\n",
    "WHERE SKU_Name = 'C120[H:8NV]';\n",
    "\n",
    "'''\n",
    "\n",
    "result = pd.read_sql(query, conn)\n",
    "print(result)"
   ]
  },
  {
   "cell_type": "markdown",
   "id": "cb014196",
   "metadata": {},
   "source": [
    "## Cannibalization Effect After Sale Event"
   ]
  },
  {
   "cell_type": "code",
   "execution_count": 16,
   "id": "684a847f",
   "metadata": {},
   "outputs": [
    {
     "name": "stdout",
     "output_type": "stream",
     "text": [
      "T-Statistic: nan, P-Value: nan\n",
      "No significant cannibalization effect detected after the sale event.\n"
     ]
    }
   ],
   "source": [
    "import pandas as pd\n",
    "from scipy import stats\n",
    "\n",
    "# Load Sales Data\n",
    "sales_data = pd.read_csv('Sales_Data.csv')\n",
    "\n",
    "# Convert 'Feed_date' to datetime\n",
    "sales_data['FEED_DATE'] = pd.to_datetime(sales_data['FEED_DATE'])\n",
    "\n",
    "# Identify the sale event date (let's assume you identified '2024-05-10' as the sale date)\n",
    "sale_event_date = pd.to_datetime('2024-05-10')\n",
    "\n",
    "# Filter data 7 days before and after the sale event\n",
    "pre_sale_data = sales_data[sales_data['FEED_DATE'] < sale_event_date].tail(7)\n",
    "post_sale_data = sales_data[sales_data['FEED_DATE'] > sale_event_date].head(7)\n",
    "\n",
    "# Calculate total sales before and after the event\n",
    "pre_sale_revenue = pre_sale_data['ORDERED_REVENUE'].sum()\n",
    "post_sale_revenue = post_sale_data['ORDERED_REVENUE'].sum()\n",
    "\n",
    "# Perform a t-test to see if there is a significant difference\n",
    "t_stat, p_value = stats.ttest_ind(pre_sale_data['ORDERED_REVENUE'], post_sale_data['ORDERED_REVENUE'])\n",
    "\n",
    "print(f\"T-Statistic: {t_stat}, P-Value: {p_value}\")\n",
    "\n",
    "# Check significance\n",
    "if p_value < 0.05:\n",
    "    print(\"There is a significant difference in sales before and after the sale event (possible cannibalization).\")\n",
    "else:\n",
    "    print(\"No significant cannibalization effect detected after the sale event.\")\n"
   ]
  },
  {
   "cell_type": "markdown",
   "id": "d1c91ced",
   "metadata": {},
   "source": [
    "## Unit Conversion (Units/Views) vs. Average Selling Price correlation for SKU C120[H:8NV]."
   ]
  },
  {
   "cell_type": "code",
   "execution_count": 17,
   "id": "fa5f7cd7",
   "metadata": {},
   "outputs": [
    {
     "name": "stdout",
     "output_type": "stream",
     "text": [
      "Correlation between Unit Conversion and Average Selling Price: nan\n"
     ]
    }
   ],
   "source": [
    "import seaborn as sns\n",
    "import matplotlib.pyplot as plt\n",
    "\n",
    "# Load Glance Views Data\n",
    "glance_views = pd.read_csv('Glance_Views.csv')\n",
    "\n",
    "# Filter data for SKU C120[H:8NV]\n",
    "sku_data = sales_data[sales_data['SKU_NAME'] == 'C120[H:8NV]'].merge(glance_views, on=['FEED_DATE', 'SKU_NAME'], how='inner')\n",
    "\n",
    "# Calculate Unit Conversion (Units/Views)\n",
    "sku_data['Unit_Conversion'] = sku_data['UNITS'] / sku_data['VIEWS']\n",
    "\n",
    "# Calculate Average Selling Price (Ordered_Revenue/Ordered_Units)\n",
    "sku_data['Avg_Selling_Price'] = sku_data['ORDERED_REVENUE'] / sku_data['ORDERED_UNITS']\n",
    "\n",
    "# Correlation analysis between Unit Conversion and Average Selling Price\n",
    "correlation = sku_data['Unit_Conversion'].corr(sku_data['Avg_Selling_Price'])\n",
    "print(f\"Correlation between Unit Conversion and Average Selling Price: {correlation}\")\n"
   ]
  },
  {
   "cell_type": "code",
   "execution_count": 18,
   "id": "1781bf77",
   "metadata": {},
   "outputs": [
    {
     "name": "stdout",
     "output_type": "stream",
     "text": [
      "       Unit_Conversion  Avg_Selling_Price\n",
      "count              0.0                0.0\n",
      "mean               NaN                NaN\n",
      "std                NaN                NaN\n",
      "min                NaN                NaN\n",
      "25%                NaN                NaN\n",
      "50%                NaN                NaN\n",
      "75%                NaN                NaN\n",
      "max                NaN                NaN\n"
     ]
    }
   ],
   "source": [
    "print(sku_data[['Unit_Conversion', 'Avg_Selling_Price']].describe())"
   ]
  },
  {
   "cell_type": "code",
   "execution_count": 19,
   "id": "b1a113e8",
   "metadata": {},
   "outputs": [],
   "source": [
    "sku_data = sku_data.dropna(subset=['Unit_Conversion', 'Avg_Selling_Price'])"
   ]
  },
  {
   "cell_type": "code",
   "execution_count": 20,
   "id": "da9a0a43",
   "metadata": {},
   "outputs": [
    {
     "name": "stdout",
     "output_type": "stream",
     "text": [
      "Correlation between Unit Conversion and Average Selling Price: nan\n"
     ]
    }
   ],
   "source": [
    "correlation = sku_data['Unit_Conversion'].corr(sku_data['Avg_Selling_Price'])\n",
    "print(f\"Correlation between Unit Conversion and Average Selling Price: {correlation}\")"
   ]
  },
  {
   "cell_type": "code",
   "execution_count": 21,
   "id": "03a79ead",
   "metadata": {},
   "outputs": [
    {
     "name": "stdout",
     "output_type": "stream",
     "text": [
      "['B12020KBUI' 'D12125XVGK' 'C02228YPPT' 'B1212:PZ:V' 'D1000D20S:'\n",
      " 'B111S;CCLC' 'D102VX\\\\R52' 'C120[H:8NV' 'C1027E31J0' 'B223F54NLG'\n",
      " 'C211F62H36' 'C213I5Z84I' 'D211PEL2IE' 'B023PT;UK5' 'B123P7CEQM'\n",
      " 'C0038K4UWZ' 'B112D4[DQM' 'D102FV7QM2' 'B012GU7SOL' 'B012JWTJDC'\n",
      " 'D214HWSKBO' 'D023IWR\\\\2M' 'C013KD0YM:' 'C102ONY5WZ' 'B004RU\\\\O1U'\n",
      " 'C214SL86Q[' 'B222RN877C' 'B1255YTFGA' 'B0148G:X2:' 'B125:PNERK'\n",
      " 'C115B4DCFK' 'C204DR2PT4' 'B004FMWNKW' 'B205J5RPJQ' 'D115J4FH48'\n",
      " 'D223J6HIOC' 'B213K5FIPU' 'B204N64U7W' 'C115NX\\\\P:U' 'D024M2YU:7'\n",
      " 'C124PR58CZ' 'C104OR985T' 'D114PRFDD:' 'B213VH76GH' 'D013XAHXXL'\n",
      " 'D214VCIZ\\\\D' 'B115WBIYPC' 'C113XCHZQZ' 'D014WCJ[VI' 'D224XBK2GB'\n",
      " 'B203VBOO9C' 'D203VCOPFZ' 'C1061ST0VY' 'B2154U7FZF' 'B215GHP7Z7'\n",
      " 'B124O1:Q80' 'B104NF32NV' 'D225P747LT' 'C125OVFDU1' 'B004WQ8HS6'\n",
      " 'D126[CVF9J' 'D014[Y8YEZ' 'C024ZE\\\\C:9' 'D126DM[TMI' 'B116DUQLEB'\n",
      " 'C105HUP[UO' 'B227GVQ09Q' 'B207GW2HRZ' 'D225JQ6249' 'B007LUCJZW'\n",
      " 'B205LUBLYM' 'B006KSCQKJ' 'D107M38WRW' 'B017LI:T3T' 'B027LTJDHL'\n",
      " 'B029QK5QO4' 'C007RJ6S4B' 'B209T2DTGU' 'D218T1DTFG' 'B10:1TJG86'\n",
      " 'B11:4F6680' 'D20:5I8Z8W' 'D2097WM9JS' 'C10:Y5JISK' 'D22:1F8F7B'\n",
      " 'B00;3H5XG9' 'C209:UNGR3' 'C22;9UNFXQ' 'C12;C;8OPZ' 'C02;FKVI8G'\n",
      " 'C22BEDZ:2S' 'D10AEBZ98B' 'C10DCVDEKQ' 'B00DHPE[3Z' 'C11CHPFY5K'\n",
      " 'D01CLVJV9A' 'B10DQ7MPPA' 'D02DR5SY3I' 'B10DS5RZI6' 'B10ECKLLFI'\n",
      " 'B12DEKMLLG' 'B20EKD5JF4' 'C20DN1YJNT' 'B01DQ37D1Q' 'D20CSKXW4I'\n",
      " 'B21DCDJM84' 'D21DDDJLQM' 'D00FT8M7O2' 'D11DR8NA8W' 'D12ER8NB5R'\n",
      " 'C20FS9V2V2' 'D21F5NQPFD' 'C12GZK3L49' 'C12E[9ZJSW' 'D12G[:XLEO'\n",
      " 'B21E\\\\9ZKDH' 'B01F[:YLFY' 'B22GZ9YNH:' 'C01G1DSTLM' 'D21G77EFEH'\n",
      " 'D11I165;6C' 'C02JAMMO55' 'C01IRBUX3:' 'C01JSHF992' 'D21J9KN6Y6'\n",
      " 'D22KAZIU6A' 'C22LA\\\\IV5D' 'D20JUJF[UO' 'D22KYRHY06' 'D01K[M7T3R'\n",
      " 'B10LJIXFL0' 'C00ML;6:2K' 'C12KPWM3IJ' 'C12L1Z21D4' 'C10N5I1QJI'\n",
      " 'B12NR3KOL6' 'B12NULIHEQ' 'D10L[VPYJA' 'D21LZVP85U' 'B00N67CJYG'\n",
      " 'B20OUUXNW5' 'B22OVTXOIY' 'B02OUVWMKR' 'C20MVUXOO4' 'D02N4PFMQV'\n",
      " 'D00P5SGE5I' 'C01O5SHE6S' 'B21PQ3RNQO' 'B22OZ6\\\\O1[' 'C00NY7ZPH8'\n",
      " 'C11P43JR78' 'C21PIJY9C2' 'D02RL461CX' 'B02RJH28AY' 'C02QYV5U3W'\n",
      " 'B01R0I8KFH' 'C11SJ6R9E5' 'C01TSH17OH' 'C11ULFE71M' 'C02UYCQYRF'\n",
      " 'D00VXBPXRY' 'D22TZCQYWC' 'C01UZDOXX8' 'B10V[S5YSO' 'C12V8HJ19W'\n",
      " 'C20VWL6T29' 'C01WVM5S0S' 'B00WISOJL6' 'B00[09IWHS' 'B01Z6OTS68'\n",
      " 'B22[BSDHRC' 'D20[LLB9ZG' 'D00\\\\2UXW5O' 'C21\\\\1VYV:8' 'D12[2VWWYC'\n",
      " 'B11ZORXUMW' 'B121O714Y2' 'C024XPOJL[' 'B013WPQZ2U' 'B115ICA8LF'\n",
      " 'C234IUW6N3' 'C223HTY6OG' 'C115HUW5SO' 'C024P0K:PE' 'C214:PRAT2'\n",
      " 'B2248PPJ:J' 'B1268NRIRL' 'C225:NPK4Y' 'D0149OPL89' 'C225FWSQHK'\n",
      " 'D225J4T84K' 'D236H2[UEM' 'B225I326ET' 'D235O9[O\\\\M' 'D125M8\\\\P:T'\n",
      " 'D236O:ZQ92' 'C035O8\\\\UJC' 'C225M:[XDI' 'B214M:0:PC' 'D124RFHQ9T'\n",
      " 'B216U2FWEK' 'C1152K2BC1' 'D016LM4SES' 'D237YHQCNZ' 'D126YHPGCS'\n",
      " 'D217:4ZNF0' 'B128RO:5YU' 'C028:8XTUS' 'C019:8WTE8' 'C0285E5797'\n",
      " 'B02:6D686Y' 'C23;OC765C' 'C019SRO\\\\MJ' 'C01BROOL23' 'B21B6UON52'\n",
      " 'B22D5SOO;2' 'C21C6TOOD6' 'B11CDKYM3J' 'C03CBL[721' 'C21ECSF\\\\XW'\n",
      " 'D11EFYB9CH' 'D12EDZB8H8' 'C11CFFFNHX' 'D11DRPRJ84' 'C13EHKRAS4'\n",
      " 'C21EJJQCUE' 'D22FIJSD3D' 'D21HFX6:SJ' 'D01I340V6S' 'D03G5YCESZ'\n",
      " 'D11H4WBEUI' 'D03I3XBHVB' 'D11I3WDI;G' 'D01I3YBNZU' 'B11J0HXCQI'\n",
      " 'D13I94VQZ2' 'D01JJT40OY' 'B13I6J4KZO' 'C02KO9VKH6' 'D12LO8TJJ4'\n",
      " 'B21LO8TNNY' 'D21LP:UMOR' 'C02KP:UMZK' 'D01KRONLEY' 'D23KPPNNKF'\n",
      " 'C01JPONNVK' 'B12JQON1JG' 'B12M69S7W6' 'B21M6AG6NL' 'B13LVANCV4'\n",
      " 'B12MWAOCYI' 'D01MH59L:1' 'B21LXRODI1' 'D03LX599KF' 'D11LYCFQPK'\n",
      " 'C21LXX222C' 'C21LY386ZI' 'C13MZE6L1D' 'D13N[RMURU' 'B01L[2OSVM'\n",
      " 'D03N\\\\BK8NO' 'D03M[UCKBI' 'D03O20QQDE' 'D11O00VJF4' 'D13N2CIPQM'\n",
      " 'C11N2HZV:T' 'D13M1U7NTK' 'B13M0T8ZQM' 'C03M2D4NLZ' 'C13N1DORBG'\n",
      " 'C03M2BOT\\\\P' 'D11O3G::ZR' 'D11O1LTK5L' 'D01O36ZWLO' 'C01O4UWTHH'\n",
      " 'C11M2YN8S4' 'B11M6LR75G' 'B23N8NDT5Q' 'C11NFCONU5' 'C23MG5MYU4'\n",
      " 'D12NT228XO' 'C21OYE1HMD' 'D21MYLC9K6' 'D01O0D2T97' 'D21P3C2QP['\n",
      " 'B21O5ZKQNV' 'C11P5WQYC4' 'B03P6YDC55' 'B02N9X5ECS' 'B18ZIYLVU8'\n",
      " 'B07XI2QS2Z' 'D26XH5B4OM' 'D28ZI3PXUF' 'D07YK6ZHZK' 'B26XOSR8:D'\n",
      " 'C17XOKRZNN' 'C08YT5NWGO' 'B08YU3BS5R' 'B07XV4H9V4' 'B16Y1745NB'\n",
      " 'D18[3PIF2Y' 'B08Y472N[U' 'C0912U55X9' 'C1915F72TB' 'B1826\\\\GXMM'\n",
      " 'B2836[GWYV' 'C091GS383S' 'C283LHHX6L' 'C081T9MDWU' 'B172T8N:V9'\n",
      " 'C092S9M8UC' 'B273S9R9[B' 'D093T9RHB2' 'C073XHZ[72' 'C083VL5MYP'\n",
      " 'B171Y[66I9' 'C182[ZK3G1' 'D271Z9R\\\\IG' 'D271\\\\GMD9Q' 'B094DY1H:5'\n",
      " 'D083FXSVL4' 'D172GLQ83Y' 'C093JQ;9EG' 'C272KW;MV8' 'D172NQYITB'\n",
      " 'C094N6[MO8' 'B082S99N[C' 'C293R6CM8U' 'B2865LLES3' 'B2756N6CMF'\n",
      " 'C174KT1O8T' 'B094KTD6IW' 'B186MK7LQW' 'B185MM49YD' 'D186LNCIEV'\n",
      " 'D1875225KN' 'C077443GR3' 'C2775R2HTS' 'C1966HK2JX' 'C18582VVJS'\n",
      " 'D18684;3KZ' 'C076JT7:XY' 'B186S:OSH:' 'B286Q8QSM:' 'C195YKS5F8'\n",
      " 'D077Y:ZWDB' 'D1964NJ7MI' 'B1883ON3Z4' 'C1964PSQ[N' 'B1882T8K9Q'\n",
      " 'D1883SDB64' 'B2764UT3G7' 'C17672PZ9O' 'B1878K26WG' 'C176:M1K\\\\E'\n",
      " 'D2869MTWCQ' 'B178:R5R5L' 'D276DLRIUG' 'C287D46S[I' 'D187XMSWL3'\n",
      " 'D278[PCGZN' 'D289;7OBJ9' 'D178Q:E8T:' 'D17:92M2FW' 'B08:;5YP75'\n",
      " 'B27:;86W4V' 'C09;:9PR57' 'C079F4K8DN' 'D07;D:4VGR' 'C279IT97C4'\n",
      " 'B089K3VH9O' 'B07:KN[6M6' 'B079R8STHR' 'C17;Q9:IS5' 'B28D3XMS37'\n",
      " 'D27B3YDDMX' 'B07B2XFY45' 'C18D6F2UTW' 'C18D6LCGZ5' 'D08E7NY[JL'\n",
      " 'C19DE8EMX8' 'D29CMS5Q6O' 'B09DOU6S7P' 'D09CROKOT7' 'B28CTPKMT8'\n",
      " 'C07CSIE3MV' 'C29E8QOZ7M' 'C17E92HXZK' 'D07DE4WXR[' 'B29EF3W154'\n",
      " 'B19EE4YCZY' 'B17FE8ZGLY' 'D18DD7ZK8X' 'D17DE9URSI' 'B07EEFWITR'\n",
      " 'B17EGTWTMH' 'D28EGTXVWH' 'C17EHWN2PD' 'D08DGZDU5V' 'D28FIEFW5V'\n",
      " 'B19FINX3;3' 'B29F3NQU49' 'B08G3NUI:2' 'D27F5MQK4K' 'B09FIZS5TZ'\n",
      " 'B08HNKB:UV' 'C19H8QCUDV' 'C19GC\\\\4Q68' 'B09IE4Y26M' 'D07IELQD78'\n",
      " 'D27IO46C5P' 'C28HVD[RUK' 'C29GVG:VJD' 'D09I93YNLP' 'D08I7DSN;X'\n",
      " 'B19J8R7P1C' 'D27HO4VKKH' 'D18K41M8RX' 'B07JGQ6I5N' 'D19KHDO;QN'\n",
      " 'D18KR9P99F' 'D08L95YHWO' 'C27LXIM8JC' 'B28LYL4T8N' 'C28L4BN873'\n",
      " 'D07M5NSEXN' 'C08N8KVJDZ' 'C29LCOGDHZ' 'C17NEDU7P[' 'D27OBXYZ1D'\n",
      " 'B08MD1RCIY' 'D07OFPCQU\\\\' 'B17NJ;4CN7' 'D08OQ6JT;5' 'C19MTMJML;'\n",
      " 'D08NTLH5[D' 'D09MWYH;XL' 'C08NFR7F9Q' 'D27PFQ7KYJ' 'D29OFPIPYD'\n",
      " 'C09OGREK9L' 'B07NTL1Z:5' 'B07NSP43[C' 'D07OSP83NU' 'C19PSPDHK4'\n",
      " 'B08NSQRRG[' 'D19PSTYDH:' 'C17OTTQV;S' 'D18OUTXPC6' 'D28NTVMU32'\n",
      " 'B08OY;\\\\T[I' 'D18PY:ZT93' 'D27N[9[WYS' 'B08Q3EJP86' 'C09P2KELCN'\n",
      " 'C29R4SL67\\\\' 'D07QEFDK\\\\E' 'D08RJOM3XB' 'C08QQJNQR4' 'D28QU2Q7[:'\n",
      " 'C28S6S9HS[' 'C07S8PDLZX' 'C19T:CGV3L' 'D09R9RLU9L' 'D29S5IMRDI']\n",
      "['B1212:PZ:V' 'B111S;CCLC' 'D102VX\\\\R52' 'C120[H:8NV' 'B223F54NLG'\n",
      " 'C211F62H36' 'B112D4[DQM' 'D102FV7QM2' 'B012GU7SOL' 'D214HWSKBO'\n",
      " 'D023IWR\\\\2M' 'C102ONY5WZ' 'B0148G:X2:' 'C115B4DCFK' 'C204DR2PT4'\n",
      " 'B004FMWNKW' 'B204N64U7W' 'C115NX\\\\P:U' 'C124PR58CZ' 'C104OR985T'\n",
      " 'D114PRFDD:' 'B213VH76GH' 'D013XAHXXL' 'D214VCIZ\\\\D' 'B115WBIYPC'\n",
      " 'C113XCHZQZ' 'D014WCJ[VI' 'D224XBK2GB' 'B203VBOO9C' 'C1061ST0VY'\n",
      " 'B2154U7FZF' 'B215GHP7Z7' 'B124O1:Q80' 'B104NF32NV' 'D225P747LT'\n",
      " 'C125OVFDU1' 'B004WQ8HS6' 'D014[Y8YEZ' 'C024ZE\\\\C:9' 'C105HUP[UO'\n",
      " 'B227GVQ09Q' 'B207GW2HRZ' 'B007LUCJZW' 'B205LUBLYM' 'B006KSCQKJ'\n",
      " 'D107M38WRW' 'B017LI:T3T' 'B027LTJDHL' 'B029QK5QO4' 'C007RJ6S4B'\n",
      " 'D218T1DTFG' 'B11:4F6680' 'D20:5I8Z8W' 'D2097WM9JS' 'C10:Y5JISK'\n",
      " 'D22:1F8F7B' 'B00;3H5XG9' 'C209:UNGR3' 'C22;9UNFXQ' 'C11CHPFY5K'\n",
      " 'B10DQ7MPPA' 'D02DR5SY3I' 'B10DS5RZI6' 'B10ECKLLFI' 'B12DEKMLLG'\n",
      " 'B01DQ37D1Q' 'D20CSKXW4I' 'B21DCDJM84' 'D21DDDJLQM' 'D00FT8M7O2'\n",
      " 'D21F5NQPFD' 'D12G[:XLEO' 'B01F[:YLFY' 'B22GZ9YNH:' 'D21G77EFEH'\n",
      " 'D11I165;6C' 'C02JAMMO55' 'C01IRBUX3:' 'D21J9KN6Y6' 'D20JUJF[UO'\n",
      " 'D22KYRHY06' 'B10LJIXFL0' 'C00ML;6:2K' 'C12L1Z21D4' 'B12NULIHEQ'\n",
      " 'D10L[VPYJA' 'D21LZVP85U' 'B00N67CJYG' 'B20OUUXNW5' 'B22OVTXOIY'\n",
      " 'B02OUVWMKR' 'C20MVUXOO4' 'D02N4PFMQV' 'D00P5SGE5I' 'C01O5SHE6S'\n",
      " 'D02RL461CX' 'C02QYV5U3W' 'C11SJ6R9E5' 'C01TSH17OH' 'C02UYCQYRF'\n",
      " 'D00VXBPXRY' 'D22TZCQYWC' 'C01UZDOXX8' 'B00WISOJL6' 'B00[09IWHS'\n",
      " 'D20[LLB9ZG' 'D00\\\\2UXW5O' 'C21\\\\1VYV:8' 'D12[2VWWYC' 'B11ZORXUMW'\n",
      " 'B121O714Y2' 'C024XPOJL[' 'C024P0K:PE' 'C214:PRAT2' 'B2248PPJ:J'\n",
      " 'B1268NRIRL' 'C225:NPK4Y' 'D0149OPL89' 'C225FWSQHK' 'D225J4T84K'\n",
      " 'D236H2[UEM' 'B225I326ET' 'D235O9[O\\\\M' 'D125M8\\\\P:T' 'D236O:ZQ92'\n",
      " 'C035O8\\\\UJC' 'C225M:[XDI' 'B214M:0:PC' 'D124RFHQ9T' 'B216U2FWEK'\n",
      " 'C1152K2BC1' 'D217:4ZNF0' 'C23;OC765C' 'C01BROOL23' 'B21B6UON52'\n",
      " 'B22D5SOO;2' 'C21C6TOOD6' 'B11CDKYM3J' 'C03CBL[721' 'C21ECSF\\\\XW'\n",
      " 'D11EFYB9CH' 'D12EDZB8H8' 'D11DRPRJ84' 'D21HFX6:SJ' 'D03G5YCESZ'\n",
      " 'D11H4WBEUI' 'D03I3XBHVB' 'D11I3WDI;G' 'D01I3YBNZU' 'B11J0HXCQI'\n",
      " 'D13I94VQZ2' 'D01JJT40OY' 'C02KO9VKH6' 'D01KRONLEY' 'D23KPPNNKF'\n",
      " 'C01JPONNVK' 'B12JQON1JG' 'B12M69S7W6' 'B21M6AG6NL' 'B13LVANCV4'\n",
      " 'D01MH59L:1' 'B21LXRODI1' 'D11LYCFQPK' 'C21LXX222C' 'C21LY386ZI'\n",
      " 'C13MZE6L1D' 'D13N[RMURU' 'B01L[2OSVM' 'D03N\\\\BK8NO' 'D03M[UCKBI'\n",
      " 'D03O20QQDE' 'D11O00VJF4' 'D13N2CIPQM' 'C11N2HZV:T' 'D13M1U7NTK'\n",
      " 'B13M0T8ZQM' 'C03M2D4NLZ' 'C13N1DORBG' 'C03M2BOT\\\\P' 'D11O1LTK5L'\n",
      " 'D01O36ZWLO' 'C01O4UWTHH' 'B11M6LR75G' 'B23N8NDT5Q' 'C11NFCONU5'\n",
      " 'C23MG5MYU4' 'D12NT228XO' 'C21OYE1HMD' 'D01O0D2T97' 'D21P3C2QP['\n",
      " 'C11P5WQYC4' 'B03P6YDC55' 'B02N9X5ECS' 'B18ZIYLVU8' 'B07XI2QS2Z'\n",
      " 'D26XH5B4OM' 'D28ZI3PXUF' 'D07YK6ZHZK' 'B26XOSR8:D' 'C17XOKRZNN'\n",
      " 'C08YT5NWGO' 'B08YU3BS5R' 'B07XV4H9V4' 'B16Y1745NB' 'B08Y472N[U'\n",
      " 'C0912U55X9' 'C1915F72TB' 'B1826\\\\GXMM' 'B2836[GWYV' 'C091GS383S'\n",
      " 'C283LHHX6L' 'C081T9MDWU' 'B172T8N:V9' 'C092S9M8UC' 'B273S9R9[B'\n",
      " 'D093T9RHB2' 'C073XHZ[72' 'C083VL5MYP' 'B171Y[66I9' 'C182[ZK3G1'\n",
      " 'D271Z9R\\\\IG' 'D271\\\\GMD9Q' 'B094DY1H:5' 'D083FXSVL4' 'D172GLQ83Y'\n",
      " 'C093JQ;9EG' 'C272KW;MV8' 'D172NQYITB' 'C094N6[MO8' 'B082S99N[C'\n",
      " 'C293R6CM8U' 'B2865LLES3' 'B2756N6CMF' 'C174KT1O8T' 'B094KTD6IW'\n",
      " 'B186MK7LQW' 'B185MM49YD' 'D186LNCIEV' 'D1875225KN' 'C077443GR3'\n",
      " 'C2775R2HTS' 'C1966HK2JX' 'C18582VVJS' 'D18684;3KZ' 'C076JT7:XY'\n",
      " 'B286Q8QSM:' 'C195YKS5F8' 'D077Y:ZWDB' 'D1964NJ7MI' 'B1883ON3Z4'\n",
      " 'C1964PSQ[N' 'B1882T8K9Q' 'D1883SDB64' 'B2764UT3G7' 'C176:M1K\\\\E'\n",
      " 'D2869MTWCQ' 'B178:R5R5L' 'D276DLRIUG' 'C287D46S[I' 'D187XMSWL3'\n",
      " 'D278[PCGZN' 'D289;7OBJ9' 'D17:92M2FW' 'B08:;5YP75' 'B27:;86W4V'\n",
      " 'C09;:9PR57' 'C079F4K8DN' 'D07;D:4VGR' 'C279IT97C4' 'B089K3VH9O'\n",
      " 'B07:KN[6M6' 'B28D3XMS37' 'D27B3YDDMX' 'B07B2XFY45' 'C18D6F2UTW'\n",
      " 'C18D6LCGZ5' 'D08E7NY[JL' 'C19DE8EMX8' 'D29CMS5Q6O' 'B09DOU6S7P'\n",
      " 'D07DE4WXR[' 'B29EF3W154' 'B19EE4YCZY' 'B17FE8ZGLY' 'D18DD7ZK8X'\n",
      " 'D17DE9URSI' 'B07EEFWITR' 'B17EGTWTMH' 'D28FIEFW5V' 'B19FINX3;3'\n",
      " 'B29F3NQU49' 'B08G3NUI:2' 'B08HNKB:UV' 'C19H8QCUDV' 'C19GC\\\\4Q68'\n",
      " 'B09IE4Y26M' 'D07IELQD78' 'C28HVD[RUK' 'C29GVG:VJD' 'D09I93YNLP'\n",
      " 'D08I7DSN;X' 'B19J8R7P1C' 'D27HO4VKKH' 'D18K41M8RX' 'B07JGQ6I5N'\n",
      " 'D18KR9P99F' 'D08L95YHWO' 'C29LCOGDHZ' 'C17NEDU7P[' 'B08MD1RCIY'\n",
      " 'D07OFPCQU\\\\' 'B17NJ;4CN7' 'D08OQ6JT;5' 'C19MTMJML;' 'D08NTLH5[D'\n",
      " 'B07NTL1Z:5' 'B07NSP43[C' 'D07OSP83NU' 'C19PSPDHK4' 'B08NSQRRG['\n",
      " 'D19PSTYDH:' 'D18OUTXPC6' 'C08QQJNQR4' 'D28QU2Q7[:' 'D225JQ6249'\n",
      " 'C21PIJY9C2' 'B10V[S5YSO' 'C12V8HJ19W' 'B115ICA8LF' 'C019SRO\\\\MJ'\n",
      " 'C11CFFFNHX' 'B1878K26WG' 'D09MWYH;XL' 'D211PEL2IE' 'C115HUW5SO'\n",
      " 'C13EHKRAS4' 'B22OZ6\\\\O1[' 'C019:8WTE8' 'D03LX599KF' 'B186S:OSH:'\n",
      " 'D126[CVF9J' 'D12ER8NB5R' 'D22KAZIU6A' 'B079R8STHR' 'B125:PNERK'\n",
      " 'D126DM[TMI' 'B209T2DTGU' 'C21EJJQCUE' 'D01I340V6S' 'C02;FKVI8G'\n",
      " 'C20FS9V2V2' 'C28L4BN873' 'B12MWAOCYI' 'D11O3G::ZR' 'C12GZK3L49'\n",
      " 'B02RJH28AY' 'C17672PZ9O' 'C17EHWN2PD' 'D203VCOPFZ' 'D11DR8NA8W'\n",
      " 'D27OBXYZ1D' 'C10DCVDEKQ' 'C11ULFE71M' 'D01K[M7T3R' 'C223HTY6OG'\n",
      " 'D28EGTXVWH' 'D27IO46C5P' 'B01R0I8KFH' 'C20VWL6T29' 'C234IUW6N3'\n",
      " 'C0285E5797' 'D01CLVJV9A' 'B12020KBUI' 'D10AEBZ98B' 'C20DN1YJNT'\n",
      " 'D08DGZDU5V' 'B22[BSDHRC' 'B004RU\\\\O1U' 'B116DUQLEB' 'B28CTPKMT8'\n",
      " 'C19T:CGV3L' 'D19KHDO;QN' 'D09CROKOT7' 'C013KD0YM:' 'B222RN877C'\n",
      " 'C028:8XTUS' 'C27LXIM8JC' 'B28LYL4T8N' 'C09OGREK9L' 'C07CSIE3MV'\n",
      " 'C17E92HXZK' 'C11M2YN8S4' 'B023PT;UK5' 'C0038K4UWZ' 'C17;Q9:IS5'\n",
      " 'C22LA\\\\IV5D' 'D29OFPIPYD' 'D27PFQ7KYJ' 'C08NFR7F9Q' 'C07S8PDLZX'\n",
      " 'B00DHPE[3Z' 'B09FIZS5TZ' 'C28S6S9HS[' 'B10:1TJG86' 'B12NR3KOL6'\n",
      " 'C01JSHF992' 'C1027E31J0' 'B01Z6OTS68' 'D115J4FH48' 'C17OTTQV;S'\n",
      " 'C11P43JR78' 'B123P7CEQM' 'C02228YPPT' 'D28NTVMU32' 'D07M5NSEXN'\n",
      " 'B012JWTJDC' 'D21MYLC9K6' 'D1000D20S:' 'C01G1DSTLM' 'C01WVM5S0S'\n",
      " 'D024M2YU:7' 'D07QEFDK\\\\E' 'D08RJOM3XB' 'D18[3PIF2Y' 'B128RO:5YU'\n",
      " 'D22FIJSD3D' 'C29E8QOZ7M' 'B21O5ZKQNV' 'D29S5IMRDI' 'D178Q:E8T:'\n",
      " 'D223J6HIOC' 'B20EKD5JF4' 'C00NY7ZPH8' 'D27F5MQK4K' 'C12;C;8OPZ'\n",
      " 'C12KPWM3IJ' 'C12E[9ZJSW' 'D09R9RLU9L' 'B21PQ3RNQO' 'B08OY;\\\\T[I'\n",
      " 'D18PY:ZT93' 'D27N[9[WYS' 'B08Q3EJP86' 'C09P2KELCN' 'C29R4SL67\\\\'\n",
      " 'D12125XVGK' 'C22BEDZ:2S' 'B1255YTFGA' 'C213I5Z84I' 'B21E\\\\9ZKDH'\n",
      " 'B02:6D686Y' 'C08N8KVJDZ']\n"
     ]
    }
   ],
   "source": [
    "print(sales_data['SKU_NAME'].unique())  # To check if C120[H:8NV] exists\n",
    "print(glance_views['SKU_NAME'].unique())  # Check in Glance_Views if it's there\n"
   ]
  },
  {
   "cell_type": "code",
   "execution_count": 22,
   "id": "880c0438",
   "metadata": {},
   "outputs": [
    {
     "name": "stdout",
     "output_type": "stream",
     "text": [
      "['2019-05-18T00:00:00.000000000' '2019-05-19T00:00:00.000000000'\n",
      " '2019-05-22T00:00:00.000000000' '2019-05-23T00:00:00.000000000'\n",
      " '2019-05-27T00:00:00.000000000' '2019-05-28T00:00:00.000000000'\n",
      " '2019-08-17T00:00:00.000000000' '2019-08-18T00:00:00.000000000'\n",
      " '2019-08-21T00:00:00.000000000' '2019-08-22T00:00:00.000000000'\n",
      " '2019-06-24T00:00:00.000000000' '2019-06-25T00:00:00.000000000'\n",
      " '2019-05-01T00:00:00.000000000' '2019-05-02T00:00:00.000000000'\n",
      " '2019-05-03T00:00:00.000000000' '2019-05-04T00:00:00.000000000'\n",
      " '2019-05-05T00:00:00.000000000' '2019-05-06T00:00:00.000000000'\n",
      " '2019-05-07T00:00:00.000000000' '2019-05-08T00:00:00.000000000'\n",
      " '2019-05-09T00:00:00.000000000' '2019-05-10T00:00:00.000000000'\n",
      " '2019-05-11T00:00:00.000000000' '2019-05-12T00:00:00.000000000'\n",
      " '2019-05-13T00:00:00.000000000' '2019-05-14T00:00:00.000000000'\n",
      " '2019-05-15T00:00:00.000000000' '2019-05-16T00:00:00.000000000'\n",
      " '2019-05-17T00:00:00.000000000' '2019-05-20T00:00:00.000000000'\n",
      " '2019-05-21T00:00:00.000000000' '2019-05-24T00:00:00.000000000'\n",
      " '2019-05-25T00:00:00.000000000' '2019-05-26T00:00:00.000000000'\n",
      " '2019-05-29T00:00:00.000000000' '2019-05-30T00:00:00.000000000'\n",
      " '2019-05-31T00:00:00.000000000' '2019-06-01T00:00:00.000000000'\n",
      " '2019-06-02T00:00:00.000000000' '2019-06-03T00:00:00.000000000'\n",
      " '2019-06-04T00:00:00.000000000' '2019-06-05T00:00:00.000000000'\n",
      " '2019-06-06T00:00:00.000000000' '2019-06-07T00:00:00.000000000'\n",
      " '2019-06-08T00:00:00.000000000' '2019-06-09T00:00:00.000000000'\n",
      " '2019-06-10T00:00:00.000000000' '2019-06-11T00:00:00.000000000'\n",
      " '2019-06-12T00:00:00.000000000' '2019-06-13T00:00:00.000000000'\n",
      " '2019-06-14T00:00:00.000000000' '2019-06-15T00:00:00.000000000'\n",
      " '2019-06-16T00:00:00.000000000' '2019-06-17T00:00:00.000000000'\n",
      " '2019-06-18T00:00:00.000000000' '2019-06-19T00:00:00.000000000'\n",
      " '2019-06-20T00:00:00.000000000' '2019-06-21T00:00:00.000000000'\n",
      " '2019-06-22T00:00:00.000000000' '2019-06-23T00:00:00.000000000'\n",
      " '2019-06-26T00:00:00.000000000' '2019-06-27T00:00:00.000000000'\n",
      " '2019-06-28T00:00:00.000000000' '2019-06-29T00:00:00.000000000'\n",
      " '2019-06-30T00:00:00.000000000' '2019-07-01T00:00:00.000000000'\n",
      " '2019-07-02T00:00:00.000000000' '2019-07-03T00:00:00.000000000'\n",
      " '2019-07-04T00:00:00.000000000' '2019-07-05T00:00:00.000000000'\n",
      " '2019-07-06T00:00:00.000000000' '2019-07-07T00:00:00.000000000'\n",
      " '2019-07-08T00:00:00.000000000' '2019-07-09T00:00:00.000000000'\n",
      " '2019-07-10T00:00:00.000000000' '2019-07-11T00:00:00.000000000'\n",
      " '2019-07-12T00:00:00.000000000' '2019-07-13T00:00:00.000000000'\n",
      " '2019-07-14T00:00:00.000000000' '2019-07-15T00:00:00.000000000'\n",
      " '2019-07-16T00:00:00.000000000' '2019-07-17T00:00:00.000000000'\n",
      " '2019-07-18T00:00:00.000000000' '2019-07-19T00:00:00.000000000'\n",
      " '2019-07-20T00:00:00.000000000' '2019-07-21T00:00:00.000000000'\n",
      " '2019-07-22T00:00:00.000000000' '2019-07-23T00:00:00.000000000'\n",
      " '2019-07-24T00:00:00.000000000' '2019-07-25T00:00:00.000000000'\n",
      " '2019-07-26T00:00:00.000000000' '2019-07-27T00:00:00.000000000'\n",
      " '2019-07-28T00:00:00.000000000' '2019-07-29T00:00:00.000000000'\n",
      " '2019-07-30T00:00:00.000000000' '2019-07-31T00:00:00.000000000'\n",
      " '2019-08-01T00:00:00.000000000' '2019-08-02T00:00:00.000000000'\n",
      " '2019-08-03T00:00:00.000000000' '2019-08-04T00:00:00.000000000'\n",
      " '2019-08-05T00:00:00.000000000' '2019-08-06T00:00:00.000000000'\n",
      " '2019-08-07T00:00:00.000000000' '2019-08-08T00:00:00.000000000'\n",
      " '2019-08-09T00:00:00.000000000' '2019-08-10T00:00:00.000000000'\n",
      " '2019-08-11T00:00:00.000000000' '2019-08-12T00:00:00.000000000'\n",
      " '2019-08-13T00:00:00.000000000' '2019-08-14T00:00:00.000000000'\n",
      " '2019-08-15T00:00:00.000000000' '2019-08-16T00:00:00.000000000'\n",
      " '2019-08-19T00:00:00.000000000' '2019-08-20T00:00:00.000000000'\n",
      " '2019-08-23T00:00:00.000000000' '2019-08-24T00:00:00.000000000'\n",
      " '2019-08-25T00:00:00.000000000' '2019-08-26T00:00:00.000000000'\n",
      " '2019-08-27T00:00:00.000000000' '2019-08-28T00:00:00.000000000'\n",
      " '2019-08-29T00:00:00.000000000' '2019-08-30T00:00:00.000000000'\n",
      " '2019-08-31T00:00:00.000000000']\n",
      "['2019-05-01' '2019-05-02' '2019-05-03' '2019-05-04' '2019-05-05'\n",
      " '2019-05-06' '2019-05-07' '2019-05-08' '2019-05-09' '2019-05-10'\n",
      " '2019-05-11' '2019-05-12' '2019-05-13' '2019-05-14' '2019-05-15'\n",
      " '2019-05-16' '2019-05-17' '2019-05-18' '2019-05-19' '2019-05-20'\n",
      " '2019-05-21' '2019-05-22' '2019-05-23' '2019-05-24' '2019-05-25'\n",
      " '2019-05-26' '2019-05-27' '2019-05-28' '2019-05-29' '2019-05-30'\n",
      " '2019-05-31' '2019-06-01' '2019-06-02' '2019-06-03' '2019-06-04'\n",
      " '2019-06-05' '2019-06-06' '2019-06-07' '2019-06-08' '2019-06-09'\n",
      " '2019-06-10' '2019-06-11' '2019-06-12' '2019-06-13' '2019-06-14'\n",
      " '2019-06-15' '2019-06-16' '2019-06-17' '2019-06-18' '2019-06-19'\n",
      " '2019-06-20' '2019-06-21' '2019-06-22' '2019-06-23' '2019-06-24'\n",
      " '2019-06-25' '2019-06-26' '2019-06-27' '2019-06-28' '2019-06-29'\n",
      " '2019-06-30' '2019-07-01' '2019-07-02' '2019-07-03' '2019-07-04'\n",
      " '2019-07-05' '2019-07-06' '2019-07-07' '2019-07-08' '2019-07-09'\n",
      " '2019-07-10' '2019-07-11' '2019-07-12' '2019-07-13' '2019-07-14'\n",
      " '2019-07-15' '2019-07-16' '2019-07-17' '2019-07-18' '2019-07-19'\n",
      " '2019-07-20' '2019-07-21' '2019-07-22' '2019-07-23' '2019-07-24'\n",
      " '2019-07-25' '2019-07-26' '2019-07-27' '2019-07-28' '2019-07-29'\n",
      " '2019-07-30' '2019-07-31' '2019-08-01' '2019-08-02' '2019-08-03'\n",
      " '2019-08-04' '2019-08-05' '2019-08-06' '2019-08-07' '2019-08-08'\n",
      " '2019-08-09' '2019-08-10' '2019-08-11' '2019-08-12' '2019-08-13'\n",
      " '2019-08-14' '2019-08-15' '2019-08-16' '2019-08-17' '2019-08-18'\n",
      " '2019-08-19' '2019-08-20' '2019-08-21' '2019-08-22' '2019-08-23'\n",
      " '2019-08-24' '2019-08-25' '2019-08-26' '2019-08-27' '2019-08-28'\n",
      " '2019-08-29' '2019-08-30' '2019-08-31']\n"
     ]
    }
   ],
   "source": [
    "print(sales_data['FEED_DATE'].unique())  # Check the available dates\n",
    "print(glance_views['FEED_DATE'].unique())"
   ]
  },
  {
   "cell_type": "code",
   "execution_count": 23,
   "id": "178380f5",
   "metadata": {},
   "outputs": [
    {
     "name": "stdout",
     "output_type": "stream",
     "text": [
      "     SKU_NAME cleaned_SKU_NAME  FEED_DATE cleaned_FEED_DATE\n",
      "0  B12020KBUI       B12020KBUI 2019-05-18        2019-05-18\n",
      "1  B12020KBUI       B12020KBUI 2019-05-19        2019-05-19\n",
      "2  B12020KBUI       B12020KBUI 2019-05-22        2019-05-22\n",
      "3  B12020KBUI       B12020KBUI 2019-05-23        2019-05-23\n",
      "4  B12020KBUI       B12020KBUI 2019-05-27        2019-05-27\n",
      "     SKU_NAME cleaned_SKU_NAME   FEED_DATE cleaned_FEED_DATE\n",
      "0  B1212:PZ:V         B1212PZV  2019-05-01        2019-05-01\n",
      "1  B1212:PZ:V         B1212PZV  2019-05-02        2019-05-02\n",
      "2  B1212:PZ:V         B1212PZV  2019-05-03        2019-05-03\n",
      "3  B1212:PZ:V         B1212PZV  2019-05-04        2019-05-04\n",
      "4  B1212:PZ:V         B1212PZV  2019-05-05        2019-05-05\n"
     ]
    }
   ],
   "source": [
    "import pandas as pd\n",
    "import re\n",
    "\n",
    "# Example DataFrames for sales_dataa and glance_viewsa\n",
    "# Assume you have already loaded the actual data\n",
    "\n",
    "# Clean special characters from SKU_NAME\n",
    "# Removing special characters from SKU_NAME in both DataFrames\n",
    "sales_data['cleaned_SKU_NAME'] = sales_data['SKU_NAME'].str.replace(r'[:;\\\\]', '', regex=True)\n",
    "glance_views['cleaned_SKU_NAME'] = glance_views['SKU_NAME'].str.replace(r'[:;\\\\]', '', regex=True)\n",
    "\n",
    "# Standardize the FEED_DATE to a common format (e.g., YYYY-MM-DD)\n",
    "# Assuming FEED_DATE might be in different formats\n",
    "sales_data['cleaned_FEED_DATE'] = pd.to_datetime(sales_data['FEED_DATE'], errors='coerce')\n",
    "glance_views['cleaned_FEED_DATE'] = pd.to_datetime(glance_views['FEED_DATE'], errors='coerce')\n",
    "\n",
    "# Display the cleaned data\n",
    "print(sales_data[['SKU_NAME', 'cleaned_SKU_NAME', 'FEED_DATE', 'cleaned_FEED_DATE']].head())\n",
    "print(glance_views[['SKU_NAME', 'cleaned_SKU_NAME', 'FEED_DATE', 'cleaned_FEED_DATE']].head())\n"
   ]
  },
  {
   "cell_type": "code",
   "execution_count": 24,
   "id": "421ba915",
   "metadata": {},
   "outputs": [
    {
     "name": "stdout",
     "output_type": "stream",
     "text": [
      "   Unnamed: 0_sales SKU_NAME_sales FEED_DATE_sales     CATEGORY SUB_CATEGORY  \\\n",
      "0                 0     B12020KBUI      2019-05-18  1000 Inputs    1002 Mice   \n",
      "1                 1     B12020KBUI      2019-05-19  1000 Inputs    1002 Mice   \n",
      "2                 2     B12020KBUI      2019-05-22  1000 Inputs    1002 Mice   \n",
      "3                 3     B12020KBUI      2019-05-23  1000 Inputs    1002 Mice   \n",
      "4                 4     B12020KBUI      2019-05-27  1000 Inputs    1002 Mice   \n",
      "\n",
      "   ORDERED_REVENUE  ORDERED_UNITS  REP_OOS cleaned_SKU_NAME cleaned_FEED_DATE  \\\n",
      "0              0.0            0.0      0.0       B12020KBUI        2019-05-18   \n",
      "1              0.0            0.0      0.0       B12020KBUI        2019-05-19   \n",
      "2              0.0            0.0      0.0       B12020KBUI        2019-05-22   \n",
      "3              0.0            0.0      0.0       B12020KBUI        2019-05-23   \n",
      "4              0.0            0.0      0.0       B12020KBUI        2019-05-27   \n",
      "\n",
      "   Unnamed: 0_glance SKU_NAME_glance FEED_DATE_glance  VIEWS  UNITS  \n",
      "0              39041      B12020KBUI       2019-05-18    8.0    0.0  \n",
      "1              39042      B12020KBUI       2019-05-19    5.0    0.0  \n",
      "2              39043      B12020KBUI       2019-05-22    8.0    0.0  \n",
      "3              39044      B12020KBUI       2019-05-23    4.0    0.0  \n",
      "4              39045      B12020KBUI       2019-05-27    9.0    0.0  \n"
     ]
    }
   ],
   "source": [
    "# Merging on cleaned_SKU_NAME and cleaned_FEED_DATE\n",
    "merged_data = pd.merge(sales_data, glance_views, on=['cleaned_SKU_NAME', 'cleaned_FEED_DATE'], suffixes=('_sales', '_glance'))\n",
    "\n",
    "# Display the merged data\n",
    "print(merged_data.head())\n"
   ]
  },
  {
   "cell_type": "code",
   "execution_count": 25,
   "id": "af87f6dd",
   "metadata": {},
   "outputs": [],
   "source": [
    "# Export merged data for Tableau visualization\n",
    "merged_data.to_csv('merged_sales_glance_data.csv', index=False)"
   ]
  },
  {
   "cell_type": "code",
   "execution_count": null,
   "id": "eedc135d",
   "metadata": {},
   "outputs": [],
   "source": []
  }
 ],
 "metadata": {
  "kernelspec": {
   "display_name": "Python 3 (ipykernel)",
   "language": "python",
   "name": "python3"
  },
  "language_info": {
   "codemirror_mode": {
    "name": "ipython",
    "version": 3
   },
   "file_extension": ".py",
   "mimetype": "text/x-python",
   "name": "python",
   "nbconvert_exporter": "python",
   "pygments_lexer": "ipython3",
   "version": "3.10.9"
  }
 },
 "nbformat": 4,
 "nbformat_minor": 5
}
